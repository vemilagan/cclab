{
  "cells": [
    {
      "cell_type": "markdown",
      "metadata": {
        "id": "avRZdUDNBI_J"
      },
      "source": [
        "# Lab 5 - Linear Regression\n",
        "\n",
        "Welcome to this week's lab on Linear Regression! This week, we will train our first machine learning model using linear regression! We will explore and implement a simple linear regression model using `scikit-learn` to predict a dependent variable based on an independent variable."
      ]
    },
    {
      "cell_type": "markdown",
      "metadata": {
        "id": "a6eIeDWbBI_N"
      },
      "source": [
        "## Part 1: Linear Regression Walkthrough\n",
        "We will use a synthetic dataset generated for the purpose of this exercise, representing the relationship between hours studied (independent variable) and exam scores (dependent variable)."
      ]
    },
    {
      "cell_type": "markdown",
      "metadata": {
        "id": "2nYdrhxvBI_O"
      },
      "source": [
        "### Step 1: Import Necessary Libraries"
      ]
    },
    {
      "cell_type": "code",
      "execution_count": 45,
      "metadata": {
        "id": "d2Se1th5BI_P"
      },
      "outputs": [],
      "source": [
        "import numpy as np\n",
        "import pandas as pd\n",
        "import matplotlib.pyplot as plt\n",
        "from sklearn.model_selection import train_test_split\n",
        "from sklearn.linear_model import LinearRegression\n",
        "from sklearn.metrics import mean_absolute_error, r2_score\n",
        "from matplotlib.ticker import MaxNLocator"
      ]
    },
    {
      "cell_type": "markdown",
      "metadata": {
        "id": "QDiB_9LJBI_Q"
      },
      "source": [
        "### Step 2: Generate Dataset"
      ]
    },
    {
      "cell_type": "code",
      "execution_count": 46,
      "metadata": {
        "id": "OxC22VzZBI_R"
      },
      "outputs": [],
      "source": [
        "# Generate synthetic data: hours studied vs exam score\n",
        "np.random.seed(0)  # For reproducibility\n",
        "hours_studied = np.random.rand(100, 1) * 10  # Random values in a 10-hour range\n",
        "exam_scores = 2 * hours_studied + np.random.randn(100, 1) * 2  # Linear relationship with noise\n",
        "\n",
        "# Convert to a DataFrame for easier handling\n",
        "data = pd.DataFrame({'Hours Studied': hours_studied.flatten(), 'Exam Score': exam_scores.flatten()})"
      ]
    },
    {
      "cell_type": "markdown",
      "metadata": {
        "id": "uerViNa6BI_R"
      },
      "source": [
        "### Step 3: Visualize Data"
      ]
    },
    {
      "cell_type": "code",
      "execution_count": 47,
      "metadata": {
        "colab": {
          "base_uri": "https://localhost:8080/",
          "height": 472
        },
        "id": "T8oRQouEBI_R",
        "outputId": "9467afdf-9018-46ce-a1ed-ab4e948e0d5d"
      },
      "outputs": [
        {
          "output_type": "display_data",
          "data": {
            "text/plain": [
              "<Figure size 640x480 with 1 Axes>"
            ],
            "image/png": "[encoded data removed]"
          },
          "metadata": {}
        }
      ],
      "source": [
        "plt.scatter(data['Hours Studied'], data['Exam Score'], color='blue', label='Exam Scores')\n",
        "plt.title('Hours Studied vs. Exam Score')\n",
        "plt.xlabel('Hours Studied')\n",
        "plt.ylabel('Exam Score')\n",
        "plt.legend()\n",
        "plt.show()"
      ]
    },
    {
      "cell_type": "markdown",
      "metadata": {
        "id": "7cuEKJZ4BI_S"
      },
      "source": [
        "What do you infer from the visualized data?"
      ]
    },
    {
      "cell_type": "markdown",
      "source": [
        "*The scatter plot shows a positive correlation between hours studied and exam scores, indicating that students generally score higher with more study time. There is variability in the data, suggesting other factors also influence exam scores. The data points are concentrated between 2 to 6 hours of study, with a wide range of scores from about 3 to 18.*"
      ],
      "metadata": {
        "id": "YNP51iwMC0va"
      }
    },
    {
      "cell_type": "markdown",
      "metadata": {
        "id": "cTK1RpY5BI_S"
      },
      "source": [
        "### Step 4: Prepare Data"
      ]
    },
    {
      "cell_type": "code",
      "execution_count": 48,
      "metadata": {
        "id": "ulB4-M8dBI_S"
      },
      "outputs": [],
      "source": [
        "# Split the dataset\n",
        "X = data[['Hours Studied']]\n",
        "y = data['Exam Score']\n",
        "X_train, X_test, y_train, y_test = train_test_split(X, y, test_size=0.2, random_state=42)"
      ]
    },
    {
      "cell_type": "markdown",
      "metadata": {
        "id": "FkuGYy-KBI_T"
      },
      "source": [
        "Why do we split data? How do you decide the portions for train and test sets?"
      ]
    },
    {
      "cell_type": "markdown",
      "source": [
        "*We split data into training and test sets to evaluate the performance of a predictive model: the training set is used to fit the model, and the test set is used to assess its generalization to unseen data. The portions for train and test sets are decided based on the dataset size and the need for balance between having enough data to train the model effectively and enough to validate its performance accurately; commonly, a split of 70-80% for training and 20-30% for testing is used. The random_state parameter is set to ensure reproducibility, so that the split is the same each time the code is run.*"
      ],
      "metadata": {
        "id": "3PLzfxDBDPfv"
      }
    },
    {
      "cell_type": "markdown",
      "metadata": {
        "id": "uKcP-WE9BI_T"
      },
      "source": [
        "### Step 5: Create and Train Model"
      ]
    },
    {
      "cell_type": "code",
      "execution_count": 49,
      "metadata": {
        "colab": {
          "base_uri": "https://localhost:8080/",
          "height": 75
        },
        "id": "DOkkDr0GBI_T",
        "outputId": "92561aff-aa39-41e0-9977-f43da90ee5d2"
      },
      "outputs": [
        {
          "output_type": "execute_result",
          "data": {
            "text/plain": [
              "LinearRegression()"
            ],
            "text/html": [
              "<style>#sk-container-id-6 {color: black;background-color: white;}#sk-container-id-6 pre{padding: 0;}#sk-container-id-6 div.sk-toggleable {background-color: white;}#sk-container-id-6 label.sk-toggleable__label {cursor: pointer;display: block;width: 100%;margin-bottom: 0;padding: 0.3em;box-sizing: border-box;text-align: center;}#sk-container-id-6 label.sk-toggleable__label-arrow:before {content: \"▸\";float: left;margin-right: 0.25em;color: #696969;}#sk-container-id-6 label.sk-toggleable__label-arrow:hover:before {color: black;}#sk-container-id-6 div.sk-estimator:hover label.sk-toggleable__label-arrow:before {color: black;}#sk-container-id-6 div.sk-toggleable__content {max-height: 0;max-width: 0;overflow: hidden;text-align: left;background-color: #f0f8ff;}#sk-container-id-6 div.sk-toggleable__content pre {margin: 0.2em;color: black;border-radius: 0.25em;background-color: #f0f8ff;}#sk-container-id-6 input.sk-toggleable__control:checked~div.sk-toggleable__content {max-height: 200px;max-width: 100%;overflow: auto;}#sk-container-id-6 input.sk-toggleable__control:checked~label.sk-toggleable__label-arrow:before {content: \"▾\";}#sk-container-id-6 div.sk-estimator input.sk-toggleable__control:checked~label.sk-toggleable__label {background-color: #d4ebff;}#sk-container-id-6 div.sk-label input.sk-toggleable__control:checked~label.sk-toggleable__label {background-color: #d4ebff;}#sk-container-id-6 input.sk-hidden--visually {border: 0;clip: rect(1px 1px 1px 1px);clip: rect(1px, 1px, 1px, 1px);height: 1px;margin: -1px;overflow: hidden;padding: 0;position: absolute;width: 1px;}#sk-container-id-6 div.sk-estimator {font-family: monospace;background-color: #f0f8ff;border: 1px dotted black;border-radius: 0.25em;box-sizing: border-box;margin-bottom: 0.5em;}#sk-container-id-6 div.sk-estimator:hover {background-color: #d4ebff;}#sk-container-id-6 div.sk-parallel-item::after {content: \"\";width: 100%;border-bottom: 1px solid gray;flex-grow: 1;}#sk-container-id-6 div.sk-label:hover label.sk-toggleable__label {background-color: #d4ebff;}#sk-container-id-6 div.sk-serial::before {content: \"\";position: absolute;border-left: 1px solid gray;box-sizing: border-box;top: 0;bottom: 0;left: 50%;z-index: 0;}#sk-container-id-6 div.sk-serial {display: flex;flex-direction: column;align-items: center;background-color: white;padding-right: 0.2em;padding-left: 0.2em;position: relative;}#sk-container-id-6 div.sk-item {position: relative;z-index: 1;}#sk-container-id-6 div.sk-parallel {display: flex;align-items: stretch;justify-content: center;background-color: white;position: relative;}#sk-container-id-6 div.sk-item::before, #sk-container-id-6 div.sk-parallel-item::before {content: \"\";position: absolute;border-left: 1px solid gray;box-sizing: border-box;top: 0;bottom: 0;left: 50%;z-index: -1;}#sk-container-id-6 div.sk-parallel-item {display: flex;flex-direction: column;z-index: 1;position: relative;background-color: white;}#sk-container-id-6 div.sk-parallel-item:first-child::after {align-self: flex-end;width: 50%;}#sk-container-id-6 div.sk-parallel-item:last-child::after {align-self: flex-start;width: 50%;}#sk-container-id-6 div.sk-parallel-item:only-child::after {width: 0;}#sk-container-id-6 div.sk-dashed-wrapped {border: 1px dashed gray;margin: 0 0.4em 0.5em 0.4em;box-sizing: border-box;padding-bottom: 0.4em;background-color: white;}#sk-container-id-6 div.sk-label label {font-family: monospace;font-weight: bold;display: inline-block;line-height: 1.2em;}#sk-container-id-6 div.sk-label-container {text-align: center;}#sk-container-id-6 div.sk-container {/* jupyter's `normalize.less` sets `[hidden] { display: none; }` but bootstrap.min.css set `[hidden] { display: none !important; }` so we also need the `!important` here to be able to override the default hidden behavior on the sphinx rendered scikit-learn.org. See: https://github.com/scikit-learn/scikit-learn/issues/21755 */display: inline-block !important;position: relative;}#sk-container-id-6 div.sk-text-repr-fallback {display: none;}</style><div id=\"sk-container-id-6\" class=\"sk-top-container\"><div class=\"sk-text-repr-fallback\"><pre>LinearRegression()</pre><b>In a Jupyter environment, please rerun this cell to show the HTML representation or trust the notebook. <br />On GitHub, the HTML representation is unable to render, please try loading this page with nbviewer.org.</b></div><div class=\"sk-container\" hidden><div class=\"sk-item\"><div class=\"sk-estimator sk-toggleable\"><input class=\"sk-toggleable__control sk-hidden--visually\" id=\"sk-estimator-id-6\" type=\"checkbox\" checked><label for=\"sk-estimator-id-6\" class=\"sk-toggleable__label sk-toggleable__label-arrow\">LinearRegression</label><div class=\"sk-toggleable__content\"><pre>LinearRegression()</pre></div></div></div></div></div>"
            ]
          },
          "metadata": {},
          "execution_count": 49
        }
      ],
      "source": [
        "# Create a linear regression model\n",
        "model = LinearRegression()\n",
        "model.fit(X_train, y_train)  # Train the model"
      ]
    },
    {
      "cell_type": "markdown",
      "metadata": {
        "id": "etY7-mGhBI_U"
      },
      "source": [
        "### Step 6: Model Evaluation"
      ]
    },
    {
      "cell_type": "code",
      "execution_count": 50,
      "metadata": {
        "colab": {
          "base_uri": "https://localhost:8080/"
        },
        "id": "BwEaoYQgBI_U",
        "outputId": "9d96e7e8-99c3-4445-9bc5-d6f94ecf00e3"
      },
      "outputs": [
        {
          "output_type": "stream",
          "name": "stdout",
          "text": [
            "Mean Absolute Error: 1.60\n",
            "R-squared: 0.85\n"
          ]
        }
      ],
      "source": [
        "# Predict and evaluate\n",
        "y_pred = model.predict(X_test)\n",
        "mae = mean_absolute_error(y_test, y_pred)\n",
        "r2 = r2_score(y_test, y_pred)\n",
        "\n",
        "print(f\"Mean Absolute Error: {mae:.2f}\")\n",
        "print(f\"R-squared: {r2:.2f}\")"
      ]
    },
    {
      "cell_type": "markdown",
      "metadata": {
        "id": "JwJokT4-BI_U"
      },
      "source": [
        "### Step 7: Make Predictions"
      ]
    },
    {
      "cell_type": "code",
      "execution_count": 51,
      "metadata": {
        "colab": {
          "base_uri": "https://localhost:8080/",
          "height": 472
        },
        "id": "C08KcJl-BI_V",
        "outputId": "1c358d2a-c2e2-4a93-c159-293fa4c0bf1e"
      },
      "outputs": [
        {
          "output_type": "display_data",
          "data": {
            "text/plain": [
              "<Figure size 640x480 with 1 Axes>"
            ],
            "image/png": "[encoded data removed]"
          },
          "metadata": {}
        }
      ],
      "source": [
        "# Visualization of the model predictions\n",
        "plt.scatter(X_test, y_test, color='blue', label='Actual scores')\n",
        "plt.plot(X_test, y_pred, color='red', label='Predicted regression line')\n",
        "plt.title('Linear Regression Model')\n",
        "plt.xlabel('Hours Studied')\n",
        "plt.ylabel('Exam Score')\n",
        "plt.legend()\n",
        "plt.show()"
      ]
    },
    {
      "cell_type": "markdown",
      "metadata": {
        "id": "lAMj3WA0BI_V"
      },
      "source": [
        "Discuss about your findings."
      ]
    },
    {
      "cell_type": "markdown",
      "source": [
        "*The plot illustrates the fit of a linear regression model to the data on hours studied versus exam scores. The blue dots represent the actual scores observed, and the red line depicts the predicted regression line. The model suggests that there is a linear relationship between the hours studied and the exam scores, with the predicted score increasing as the hours studied increase. The fit looks good as the line passes through the majority of the data points, indicating the model's predictions are close to the actual scores for most observations.*"
      ],
      "metadata": {
        "id": "0gYzwdAMDnho"
      }
    },
    {
      "cell_type": "markdown",
      "metadata": {
        "id": "IwV5B10nBI_V"
      },
      "source": [
        "## Part 2: Implement a Regression Model\n",
        "\n",
        "Apply your understanding of linear regression to a new dataset to predict `y` based on `x`. Find and use any dataset of your choice to complete this task."
      ]
    },
    {
      "cell_type": "markdown",
      "metadata": {
        "id": "3ir9wQrKBI_V"
      },
      "source": [
        "### Task 1: Implement the Regression Model"
      ]
    },
    {
      "cell_type": "code",
      "execution_count": 52,
      "metadata": {
        "colab": {
          "base_uri": "https://localhost:8080/",
          "height": 290
        },
        "id": "vR-QfMtGBI_V",
        "outputId": "bfa272ff-941e-4e6b-a141-e1ed6d056dfa"
      },
      "outputs": [
        {
          "output_type": "execute_result",
          "data": {
            "text/plain": [
              "   Year     World  Afghanistan  Albania  Algeria  Angola  Argentina  Armenia  \\\n",
              "0  1960  50.76101       31.436   61.309   45.961  31.539     62.381   62.852   \n",
              "1  1961       NaN       31.767   62.272   46.493  31.935     62.422   63.274   \n",
              "2  1962       NaN       32.113   63.116   47.043  32.331     62.439   63.701   \n",
              "3  1963       NaN       32.475   63.811   47.613  32.726     62.447   64.131   \n",
              "4  1964       NaN       32.853   64.345   48.203  33.121     62.462   64.562   \n",
              "\n",
              "    Aruba  Australia  ...  United States  Uruguay  Uzbekistan  Vanuatu  \\\n",
              "0  64.084   67.78571  ...           66.6   64.811      55.456   45.067   \n",
              "1  64.429   67.90000  ...           67.1   65.023      55.868   45.672   \n",
              "2  64.747   67.84000  ...           66.9   65.202      56.284   46.276   \n",
              "3  65.053   67.78000  ...           66.6   65.338      56.702   46.879   \n",
              "4  65.356   67.72000  ...           66.8   65.429      57.118   47.480   \n",
              "\n",
              "   Venezuela, RB  Vietnam  Virgin Islands (U.S.)  Yemen, Rep.  Zambia  \\\n",
              "0         56.926   42.406                 61.659       36.869  43.622   \n",
              "1         57.444   42.876                 61.944       37.133  44.008   \n",
              "2         57.950   43.363                 62.225       37.394  44.380   \n",
              "3         58.441   43.859                 62.519       37.653  44.738   \n",
              "4         58.917   44.347                 62.835       37.911  45.085   \n",
              "\n",
              "   Zimbabwe  \n",
              "0    49.981  \n",
              "1    50.353  \n",
              "2    50.714  \n",
              "3    51.062  \n",
              "4    51.398  \n",
              "\n",
              "[5 rows x 189 columns]"
            ],
            "text/html": [
              "\n",
              "  <div id=\"df-e6ce7446-71e7-4858-957d-14765b007aeb\" class=\"colab-df-container\">\n",
              "    <div>\n",
              "<style scoped>\n",
              "    .dataframe tbody tr th:only-of-type {\n",
              "        vertical-align: middle;\n",
              "    }\n",
              "\n",
              "    .dataframe tbody tr th {\n",
              "        vertical-align: top;\n",
              "    }\n",
              "\n",
              "    .dataframe thead th {\n",
              "        text-align: right;\n",
              "    }\n",
              "</style>\n",
              "<table border=\"1\" class=\"dataframe\">\n",
              "  <thead>\n",
              "    <tr style=\"text-align: right;\">\n",
              "      <th></th>\n",
              "      <th>Year</th>\n",
              "      <th>World</th>\n",
              "      <th>Afghanistan</th>\n",
              "      <th>Albania</th>\n",
              "      <th>Algeria</th>\n",
              "      <th>Angola</th>\n",
              "      <th>Argentina</th>\n",
              "      <th>Armenia</th>\n",
              "      <th>Aruba</th>\n",
              "      <th>Australia</th>\n",
              "      <th>...</th>\n",
              "      <th>United States</th>\n",
              "      <th>Uruguay</th>\n",
              "      <th>Uzbekistan</th>\n",
              "      <th>Vanuatu</th>\n",
              "      <th>Venezuela, RB</th>\n",
              "      <th>Vietnam</th>\n",
              "      <th>Virgin Islands (U.S.)</th>\n",
              "      <th>Yemen, Rep.</th>\n",
              "      <th>Zambia</th>\n",
              "      <th>Zimbabwe</th>\n",
              "    </tr>\n",
              "  </thead>\n",
              "  <tbody>\n",
              "    <tr>\n",
              "      <th>0</th>\n",
              "      <td>1960</td>\n",
              "      <td>50.76101</td>\n",
              "      <td>31.436</td>\n",
              "      <td>61.309</td>\n",
              "      <td>45.961</td>\n",
              "      <td>31.539</td>\n",
              "      <td>62.381</td>\n",
              "      <td>62.852</td>\n",
              "      <td>64.084</td>\n",
              "      <td>67.78571</td>\n",
              "      <td>...</td>\n",
              "      <td>66.6</td>\n",
              "      <td>64.811</td>\n",
              "      <td>55.456</td>\n",
              "      <td>45.067</td>\n",
              "      <td>56.926</td>\n",
              "      <td>42.406</td>\n",
              "      <td>61.659</td>\n",
              "      <td>36.869</td>\n",
              "      <td>43.622</td>\n",
              "      <td>49.981</td>\n",
              "    </tr>\n",
              "    <tr>\n",
              "      <th>1</th>\n",
              "      <td>1961</td>\n",
              "      <td>NaN</td>\n",
              "      <td>31.767</td>\n",
              "      <td>62.272</td>\n",
              "      <td>46.493</td>\n",
              "      <td>31.935</td>\n",
              "      <td>62.422</td>\n",
              "      <td>63.274</td>\n",
              "      <td>64.429</td>\n",
              "      <td>67.90000</td>\n",
              "      <td>...</td>\n",
              "      <td>67.1</td>\n",
              "      <td>65.023</td>\n",
              "      <td>55.868</td>\n",
              "      <td>45.672</td>\n",
              "      <td>57.444</td>\n",
              "      <td>42.876</td>\n",
              "      <td>61.944</td>\n",
              "      <td>37.133</td>\n",
              "      <td>44.008</td>\n",
              "      <td>50.353</td>\n",
              "    </tr>\n",
              "    <tr>\n",
              "      <th>2</th>\n",
              "      <td>1962</td>\n",
              "      <td>NaN</td>\n",
              "      <td>32.113</td>\n",
              "      <td>63.116</td>\n",
              "      <td>47.043</td>\n",
              "      <td>32.331</td>\n",
              "      <td>62.439</td>\n",
              "      <td>63.701</td>\n",
              "      <td>64.747</td>\n",
              "      <td>67.84000</td>\n",
              "      <td>...</td>\n",
              "      <td>66.9</td>\n",
              "      <td>65.202</td>\n",
              "      <td>56.284</td>\n",
              "      <td>46.276</td>\n",
              "      <td>57.950</td>\n",
              "      <td>43.363</td>\n",
              "      <td>62.225</td>\n",
              "      <td>37.394</td>\n",
              "      <td>44.380</td>\n",
              "      <td>50.714</td>\n",
              "    </tr>\n",
              "    <tr>\n",
              "      <th>3</th>\n",
              "      <td>1963</td>\n",
              "      <td>NaN</td>\n",
              "      <td>32.475</td>\n",
              "      <td>63.811</td>\n",
              "      <td>47.613</td>\n",
              "      <td>32.726</td>\n",
              "      <td>62.447</td>\n",
              "      <td>64.131</td>\n",
              "      <td>65.053</td>\n",
              "      <td>67.78000</td>\n",
              "      <td>...</td>\n",
              "      <td>66.6</td>\n",
              "      <td>65.338</td>\n",
              "      <td>56.702</td>\n",
              "      <td>46.879</td>\n",
              "      <td>58.441</td>\n",
              "      <td>43.859</td>\n",
              "      <td>62.519</td>\n",
              "      <td>37.653</td>\n",
              "      <td>44.738</td>\n",
              "      <td>51.062</td>\n",
              "    </tr>\n",
              "    <tr>\n",
              "      <th>4</th>\n",
              "      <td>1964</td>\n",
              "      <td>NaN</td>\n",
              "      <td>32.853</td>\n",
              "      <td>64.345</td>\n",
              "      <td>48.203</td>\n",
              "      <td>33.121</td>\n",
              "      <td>62.462</td>\n",
              "      <td>64.562</td>\n",
              "      <td>65.356</td>\n",
              "      <td>67.72000</td>\n",
              "      <td>...</td>\n",
              "      <td>66.8</td>\n",
              "      <td>65.429</td>\n",
              "      <td>57.118</td>\n",
              "      <td>47.480</td>\n",
              "      <td>58.917</td>\n",
              "      <td>44.347</td>\n",
              "      <td>62.835</td>\n",
              "      <td>37.911</td>\n",
              "      <td>45.085</td>\n",
              "      <td>51.398</td>\n",
              "    </tr>\n",
              "  </tbody>\n",
              "</table>\n",
              "<p>5 rows × 189 columns</p>\n",
              "</div>\n",
              "    <div class=\"colab-df-buttons\">\n",
              "\n",
              "  <div class=\"colab-df-container\">\n",
              "    <button class=\"colab-df-convert\" onclick=\"convertToInteractive('df-e6ce7446-71e7-4858-957d-14765b007aeb')\"\n",
              "            title=\"Convert this dataframe to an interactive table.\"\n",
              "            style=\"display:none;\">\n",
              "\n",
              "  <svg xmlns=\"http://www.w3.org/2000/svg\" height=\"24px\" viewBox=\"0 -960 960 960\">\n",
              "    <path d=\"M120-120v-720h720v720H120Zm60-500h600v-160H180v160Zm220 220h160v-160H400v160Zm0 220h160v-160H400v160ZM180-400h160v-160H180v160Zm440 0h160v-160H620v160ZM180-180h160v-160H180v160Zm440 0h160v-160H620v160Z\"/>\n",
              "  </svg>\n",
              "    </button>\n",
              "\n",
              "  <style>\n",
              "    .colab-df-container {\n",
              "      display:flex;\n",
              "      gap: 12px;\n",
              "    }\n",
              "\n",
              "    .colab-df-convert {\n",
              "      background-color: #E8F0FE;\n",
              "      border: none;\n",
              "      border-radius: 50%;\n",
              "      cursor: pointer;\n",
              "      display: none;\n",
              "      fill: #1967D2;\n",
              "      height: 32px;\n",
              "      padding: 0 0 0 0;\n",
              "      width: 32px;\n",
              "    }\n",
              "\n",
              "    .colab-df-convert:hover {\n",
              "      background-color: #E2EBFA;\n",
              "      box-shadow: 0px 1px 2px rgba(60, 64, 67, 0.3), 0px 1px 3px 1px rgba(60, 64, 67, 0.15);\n",
              "      fill: #174EA6;\n",
              "    }\n",
              "\n",
              "    .colab-df-buttons div {\n",
              "      margin-bottom: 4px;\n",
              "    }\n",
              "\n",
              "    [theme=dark] .colab-df-convert {\n",
              "      background-color: #3B4455;\n",
              "      fill: #D2E3FC;\n",
              "    }\n",
              "\n",
              "    [theme=dark] .colab-df-convert:hover {\n",
              "      background-color: #434B5C;\n",
              "      box-shadow: 0px 1px 3px 1px rgba(0, 0, 0, 0.15);\n",
              "      filter: drop-shadow(0px 1px 2px rgba(0, 0, 0, 0.3));\n",
              "      fill: #FFFFFF;\n",
              "    }\n",
              "  </style>\n",
              "\n",
              "    <script>\n",
              "      const buttonEl =\n",
              "        document.querySelector('#df-e6ce7446-71e7-4858-957d-14765b007aeb button.colab-df-convert');\n",
              "      buttonEl.style.display =\n",
              "        google.colab.kernel.accessAllowed ? 'block' : 'none';\n",
              "\n",
              "      async function convertToInteractive(key) {\n",
              "        const element = document.querySelector('#df-e6ce7446-71e7-4858-957d-14765b007aeb');\n",
              "        const dataTable =\n",
              "          await google.colab.kernel.invokeFunction('convertToInteractive',\n",
              "                                                    [key], {});\n",
              "        if (!dataTable) return;\n",
              "\n",
              "        const docLinkHtml = 'Like what you see? Visit the ' +\n",
              "          '<a target=\"_blank\" href=https://colab.research.google.com/notebooks/data_table.ipynb>data table notebook</a>'\n",
              "          + ' to learn more about interactive tables.';\n",
              "        element.innerHTML = '';\n",
              "        dataTable['output_type'] = 'display_data';\n",
              "        await google.colab.output.renderOutput(dataTable, element);\n",
              "        const docLink = document.createElement('div');\n",
              "        docLink.innerHTML = docLinkHtml;\n",
              "        element.appendChild(docLink);\n",
              "      }\n",
              "    </script>\n",
              "  </div>\n",
              "\n",
              "\n",
              "<div id=\"df-9472011c-c38f-40e7-b57e-4cfed2d754f7\">\n",
              "  <button class=\"colab-df-quickchart\" onclick=\"quickchart('df-9472011c-c38f-40e7-b57e-4cfed2d754f7')\"\n",
              "            title=\"Suggest charts\"\n",
              "            style=\"display:none;\">\n",
              "\n",
              "<svg xmlns=\"http://www.w3.org/2000/svg\" height=\"24px\"viewBox=\"0 0 24 24\"\n",
              "     width=\"24px\">\n",
              "    <g>\n",
              "        <path d=\"M19 3H5c-1.1 0-2 .9-2 2v14c0 1.1.9 2 2 2h14c1.1 0 2-.9 2-2V5c0-1.1-.9-2-2-2zM9 17H7v-7h2v7zm4 0h-2V7h2v10zm4 0h-2v-4h2v4z\"/>\n",
              "    </g>\n",
              "</svg>\n",
              "  </button>\n",
              "\n",
              "<style>\n",
              "  .colab-df-quickchart {\n",
              "      --bg-color: #E8F0FE;\n",
              "      --fill-color: #1967D2;\n",
              "      --hover-bg-color: #E2EBFA;\n",
              "      --hover-fill-color: #174EA6;\n",
              "      --disabled-fill-color: #AAA;\n",
              "      --disabled-bg-color: #DDD;\n",
              "  }\n",
              "\n",
              "  [theme=dark] .colab-df-quickchart {\n",
              "      --bg-color: #3B4455;\n",
              "      --fill-color: #D2E3FC;\n",
              "      --hover-bg-color: #434B5C;\n",
              "      --hover-fill-color: #FFFFFF;\n",
              "      --disabled-bg-color: #3B4455;\n",
              "      --disabled-fill-color: #666;\n",
              "  }\n",
              "\n",
              "  .colab-df-quickchart {\n",
              "    background-color: var(--bg-color);\n",
              "    border: none;\n",
              "    border-radius: 50%;\n",
              "    cursor: pointer;\n",
              "    display: none;\n",
              "    fill: var(--fill-color);\n",
              "    height: 32px;\n",
              "    padding: 0;\n",
              "    width: 32px;\n",
              "  }\n",
              "\n",
              "  .colab-df-quickchart:hover {\n",
              "    background-color: var(--hover-bg-color);\n",
              "    box-shadow: 0 1px 2px rgba(60, 64, 67, 0.3), 0 1px 3px 1px rgba(60, 64, 67, 0.15);\n",
              "    fill: var(--button-hover-fill-color);\n",
              "  }\n",
              "\n",
              "  .colab-df-quickchart-complete:disabled,\n",
              "  .colab-df-quickchart-complete:disabled:hover {\n",
              "    background-color: var(--disabled-bg-color);\n",
              "    fill: var(--disabled-fill-color);\n",
              "    box-shadow: none;\n",
              "  }\n",
              "\n",
              "  .colab-df-spinner {\n",
              "    border: 2px solid var(--fill-color);\n",
              "    border-color: transparent;\n",
              "    border-bottom-color: var(--fill-color);\n",
              "    animation:\n",
              "      spin 1s steps(1) infinite;\n",
              "  }\n",
              "\n",
              "  @keyframes spin {\n",
              "    0% {\n",
              "      border-color: transparent;\n",
              "      border-bottom-color: var(--fill-color);\n",
              "      border-left-color: var(--fill-color);\n",
              "    }\n",
              "    20% {\n",
              "      border-color: transparent;\n",
              "      border-left-color: var(--fill-color);\n",
              "      border-top-color: var(--fill-color);\n",
              "    }\n",
              "    30% {\n",
              "      border-color: transparent;\n",
              "      border-left-color: var(--fill-color);\n",
              "      border-top-color: var(--fill-color);\n",
              "      border-right-color: var(--fill-color);\n",
              "    }\n",
              "    40% {\n",
              "      border-color: transparent;\n",
              "      border-right-color: var(--fill-color);\n",
              "      border-top-color: var(--fill-color);\n",
              "    }\n",
              "    60% {\n",
              "      border-color: transparent;\n",
              "      border-right-color: var(--fill-color);\n",
              "    }\n",
              "    80% {\n",
              "      border-color: transparent;\n",
              "      border-right-color: var(--fill-color);\n",
              "      border-bottom-color: var(--fill-color);\n",
              "    }\n",
              "    90% {\n",
              "      border-color: transparent;\n",
              "      border-bottom-color: var(--fill-color);\n",
              "    }\n",
              "  }\n",
              "</style>\n",
              "\n",
              "  <script>\n",
              "    async function quickchart(key) {\n",
              "      const quickchartButtonEl =\n",
              "        document.querySelector('#' + key + ' button');\n",
              "      quickchartButtonEl.disabled = true;  // To prevent multiple clicks.\n",
              "      quickchartButtonEl.classList.add('colab-df-spinner');\n",
              "      try {\n",
              "        const charts = await google.colab.kernel.invokeFunction(\n",
              "            'suggestCharts', [key], {});\n",
              "      } catch (error) {\n",
              "        console.error('Error during call to suggestCharts:', error);\n",
              "      }\n",
              "      quickchartButtonEl.classList.remove('colab-df-spinner');\n",
              "      quickchartButtonEl.classList.add('colab-df-quickchart-complete');\n",
              "    }\n",
              "    (() => {\n",
              "      let quickchartButtonEl =\n",
              "        document.querySelector('#df-9472011c-c38f-40e7-b57e-4cfed2d754f7 button');\n",
              "      quickchartButtonEl.style.display =\n",
              "        google.colab.kernel.accessAllowed ? 'block' : 'none';\n",
              "    })();\n",
              "  </script>\n",
              "</div>\n",
              "\n",
              "    </div>\n",
              "  </div>\n"
            ],
            "application/vnd.google.colaboratory.intrinsic+json": {
              "type": "dataframe",
              "variable_name": "life_expectancy_data"
            }
          },
          "metadata": {},
          "execution_count": 52
        }
      ],
      "source": [
        "life_expectancy_data = pd.read_excel('LifeExpectancy.xlsx')\n",
        "life_expectancy_data.head()"
      ]
    },
    {
      "cell_type": "code",
      "source": [
        "# Dropping rows where 'World' life expectancy is NaN to keep only complete data\n",
        "life_expectancy_data.dropna(subset=['World'], inplace=True)\n",
        "\n",
        "# Convert the 'Year' column to integer\n",
        "life_expectancy_data['Year'] = life_expectancy_data['Year'].astype(int)\n",
        "\n",
        "# Prepare the dataset\n",
        "X = life_expectancy_data[['Year']]\n",
        "y = life_expectancy_data['World']"
      ],
      "metadata": {
        "id": "NkQv4YBPSTyC"
      },
      "execution_count": 61,
      "outputs": []
    },
    {
      "cell_type": "code",
      "source": [
        "# Visualization of the dataset\n",
        "plt.scatter(X, y, color='blue', label='Actual Life Expectancy')\n",
        "plt.title('Year vs. World Life Expectancy')\n",
        "plt.xlabel('Year')\n",
        "plt.ylabel('World Life Expectancy')\n",
        "plt.legend()\n",
        "plt.show()"
      ],
      "metadata": {
        "colab": {
          "base_uri": "https://localhost:8080/",
          "height": 472
        },
        "id": "WoaJ0crXUVZc",
        "outputId": "4e769493-83d8-42bd-8c51-dfae20721dea"
      },
      "execution_count": 62,
      "outputs": [
        {
          "output_type": "display_data",
          "data": {
            "text/plain": [
              "<Figure size 640x480 with 1 Axes>"
            ],
            "image/png": "[encoded data removed]"
          },
          "metadata": {}
        }
      ]
    },
    {
      "cell_type": "markdown",
      "source": [
        "*This plot shows the actual life expectancy data points across different years. There's a clear upward trend, indicating that the average global life expectancy has been increasing over time. The plot suggests a strong positive relationship between time and life expectancy, with no apparent outliers or anomalies in the data.*"
      ],
      "metadata": {
        "id": "CQujOxkjZNZj"
      }
    },
    {
      "cell_type": "code",
      "source": [
        "# Split the dataset\n",
        "X_train, X_test, y_train, y_test = train_test_split(X, y, test_size=0.2, random_state=42)"
      ],
      "metadata": {
        "id": "TaoCpxpdSiZg"
      },
      "execution_count": 63,
      "outputs": []
    },
    {
      "cell_type": "code",
      "source": [
        "# Create a linear regression model\n",
        "model = LinearRegression()\n",
        "model.fit(X_train, y_train)  # Train the model"
      ],
      "metadata": {
        "colab": {
          "base_uri": "https://localhost:8080/",
          "height": 75
        },
        "id": "GXJfwPuoSmcJ",
        "outputId": "4b450c67-6787-4855-8238-2b56d43e9b56"
      },
      "execution_count": 64,
      "outputs": [
        {
          "output_type": "execute_result",
          "data": {
            "text/plain": [
              "LinearRegression()"
            ],
            "text/html": [
              "<style>#sk-container-id-8 {color: black;background-color: white;}#sk-container-id-8 pre{padding: 0;}#sk-container-id-8 div.sk-toggleable {background-color: white;}#sk-container-id-8 label.sk-toggleable__label {cursor: pointer;display: block;width: 100%;margin-bottom: 0;padding: 0.3em;box-sizing: border-box;text-align: center;}#sk-container-id-8 label.sk-toggleable__label-arrow:before {content: \"▸\";float: left;margin-right: 0.25em;color: #696969;}#sk-container-id-8 label.sk-toggleable__label-arrow:hover:before {color: black;}#sk-container-id-8 div.sk-estimator:hover label.sk-toggleable__label-arrow:before {color: black;}#sk-container-id-8 div.sk-toggleable__content {max-height: 0;max-width: 0;overflow: hidden;text-align: left;background-color: #f0f8ff;}#sk-container-id-8 div.sk-toggleable__content pre {margin: 0.2em;color: black;border-radius: 0.25em;background-color: #f0f8ff;}#sk-container-id-8 input.sk-toggleable__control:checked~div.sk-toggleable__content {max-height: 200px;max-width: 100%;overflow: auto;}#sk-container-id-8 input.sk-toggleable__control:checked~label.sk-toggleable__label-arrow:before {content: \"▾\";}#sk-container-id-8 div.sk-estimator input.sk-toggleable__control:checked~label.sk-toggleable__label {background-color: #d4ebff;}#sk-container-id-8 div.sk-label input.sk-toggleable__control:checked~label.sk-toggleable__label {background-color: #d4ebff;}#sk-container-id-8 input.sk-hidden--visually {border: 0;clip: rect(1px 1px 1px 1px);clip: rect(1px, 1px, 1px, 1px);height: 1px;margin: -1px;overflow: hidden;padding: 0;position: absolute;width: 1px;}#sk-container-id-8 div.sk-estimator {font-family: monospace;background-color: #f0f8ff;border: 1px dotted black;border-radius: 0.25em;box-sizing: border-box;margin-bottom: 0.5em;}#sk-container-id-8 div.sk-estimator:hover {background-color: #d4ebff;}#sk-container-id-8 div.sk-parallel-item::after {content: \"\";width: 100%;border-bottom: 1px solid gray;flex-grow: 1;}#sk-container-id-8 div.sk-label:hover label.sk-toggleable__label {background-color: #d4ebff;}#sk-container-id-8 div.sk-serial::before {content: \"\";position: absolute;border-left: 1px solid gray;box-sizing: border-box;top: 0;bottom: 0;left: 50%;z-index: 0;}#sk-container-id-8 div.sk-serial {display: flex;flex-direction: column;align-items: center;background-color: white;padding-right: 0.2em;padding-left: 0.2em;position: relative;}#sk-container-id-8 div.sk-item {position: relative;z-index: 1;}#sk-container-id-8 div.sk-parallel {display: flex;align-items: stretch;justify-content: center;background-color: white;position: relative;}#sk-container-id-8 div.sk-item::before, #sk-container-id-8 div.sk-parallel-item::before {content: \"\";position: absolute;border-left: 1px solid gray;box-sizing: border-box;top: 0;bottom: 0;left: 50%;z-index: -1;}#sk-container-id-8 div.sk-parallel-item {display: flex;flex-direction: column;z-index: 1;position: relative;background-color: white;}#sk-container-id-8 div.sk-parallel-item:first-child::after {align-self: flex-end;width: 50%;}#sk-container-id-8 div.sk-parallel-item:last-child::after {align-self: flex-start;width: 50%;}#sk-container-id-8 div.sk-parallel-item:only-child::after {width: 0;}#sk-container-id-8 div.sk-dashed-wrapped {border: 1px dashed gray;margin: 0 0.4em 0.5em 0.4em;box-sizing: border-box;padding-bottom: 0.4em;background-color: white;}#sk-container-id-8 div.sk-label label {font-family: monospace;font-weight: bold;display: inline-block;line-height: 1.2em;}#sk-container-id-8 div.sk-label-container {text-align: center;}#sk-container-id-8 div.sk-container {/* jupyter's `normalize.less` sets `[hidden] { display: none; }` but bootstrap.min.css set `[hidden] { display: none !important; }` so we also need the `!important` here to be able to override the default hidden behavior on the sphinx rendered scikit-learn.org. See: https://github.com/scikit-learn/scikit-learn/issues/21755 */display: inline-block !important;position: relative;}#sk-container-id-8 div.sk-text-repr-fallback {display: none;}</style><div id=\"sk-container-id-8\" class=\"sk-top-container\"><div class=\"sk-text-repr-fallback\"><pre>LinearRegression()</pre><b>In a Jupyter environment, please rerun this cell to show the HTML representation or trust the notebook. <br />On GitHub, the HTML representation is unable to render, please try loading this page with nbviewer.org.</b></div><div class=\"sk-container\" hidden><div class=\"sk-item\"><div class=\"sk-estimator sk-toggleable\"><input class=\"sk-toggleable__control sk-hidden--visually\" id=\"sk-estimator-id-8\" type=\"checkbox\" checked><label for=\"sk-estimator-id-8\" class=\"sk-toggleable__label sk-toggleable__label-arrow\">LinearRegression</label><div class=\"sk-toggleable__content\"><pre>LinearRegression()</pre></div></div></div></div></div>"
            ]
          },
          "metadata": {},
          "execution_count": 64
        }
      ]
    },
    {
      "cell_type": "code",
      "source": [
        "# Predict and evaluate\n",
        "y_pred = model.predict(X_test)\n",
        "mae = mean_absolute_error(y_test, y_pred)\n",
        "r2 = r2_score(y_test, y_pred)\n",
        "\n",
        "# Output the performance metrics\n",
        "print(f\"Mean Absolute Error: {mae:.2f}\")\n",
        "print(f\"R-squared: {r2:.2f}\")"
      ],
      "metadata": {
        "colab": {
          "base_uri": "https://localhost:8080/"
        },
        "id": "9qWxk_IBSo1o",
        "outputId": "168792f1-241a-47fc-dd28-5dd7b1e2393a"
      },
      "execution_count": 65,
      "outputs": [
        {
          "output_type": "stream",
          "name": "stdout",
          "text": [
            "Mean Absolute Error: 0.43\n",
            "R-squared: 0.85\n"
          ]
        }
      ]
    },
    {
      "cell_type": "code",
      "source": [
        "# Visualization of the model predictions\n",
        "\n",
        "plt.scatter(X_test, y_test, color='blue', label='Actual scores')\n",
        "plt.plot(X_test, y_pred, color='red', label='Predicted regression line')\n",
        "plt.title('Linear Regression Model on World Life Expectancy')\n",
        "plt.xlabel('Year')\n",
        "plt.ylabel('World Life Expectancy')\n",
        "plt.gca().xaxis.set_major_locator(MaxNLocator(integer=True))\n",
        "\n",
        "plt.legend()\n",
        "plt.show()"
      ],
      "metadata": {
        "colab": {
          "base_uri": "https://localhost:8080/",
          "height": 472
        },
        "id": "njBfp2-MSs_2",
        "outputId": "1a797e83-3aec-427a-c07e-08aa9e8b8c49"
      },
      "execution_count": 66,
      "outputs": [
        {
          "output_type": "display_data",
          "data": {
            "text/plain": [
              "<Figure size 640x480 with 1 Axes>"
            ],
            "image/png": "[encoded data removed]"
          },
          "metadata": {}
        }
      ]
    },
    {
      "cell_type": "markdown",
      "source": [
        "*The linear regression plot suggests a strong positive correlation between time and global life expectancy, indicating that as years progress, the average life expectancy around the world increases. The model's predictions align closely with the actual data, as evidenced by the red regression line tracking through the center of the blue data points. This alignment implies that the model can reliably predict life expectancy based on the year, within the range of the data provided.*"
      ],
      "metadata": {
        "id": "tFPL4O7RYBxV"
      }
    },
    {
      "cell_type": "markdown",
      "metadata": {
        "id": "OmHerhfBBI_W"
      },
      "source": [
        "### Task 2: Explain your implementation\n",
        "Provide detailed explanation and discussion about your implementation. Break it down to different steps as relevant to your implementation."
      ]
    },
    {
      "cell_type": "markdown",
      "source": [
        "**Step 1: Data Loading and Preparation**\n",
        "\n",
        "We began by loading the data from an Excel file into a Pandas DataFrame. We noticed that the dataset contained life expectancy data for the world along with individual countries, across multiple years. To clean up the data for analysis, we converted the 'Year' column to an integer type to remove any decimals and handled missing values in the 'World' life expectancy column by dropping rows with NaN values.\n",
        "\n",
        "**Step 2: Data Visualization**\n",
        "\n",
        "Before applying any machine learning models, we visualized the relationship between the years and the world life expectancy. This was done by plotting a scatter plot with years on the x-axis and life expectancy on the y-axis. The scatter plot helps us see the overall trend and understand if a linear model would be a good fit for our data.\n",
        "\n",
        "**Step 3: Dataset Splitting**\n",
        "\n",
        "The dataset was split into a training set and a test set using the train_test_split function from the scikit-learn library. We allocated 80% of the data to the training set and the remaining 20% to the test set, ensuring that we have enough data to train our model while also having a separate set to evaluate its performance.\n",
        "\n",
        "**Step 4: Model Training**\n",
        "\n",
        "A LinearRegression model was instantiated and trained using the training data. This step involves finding the best-fitting line through the data points, which minimizes the sum of the squared differences between the observed values and the model's predictions.\n",
        "\n",
        "**Step 5: Model Evaluation**\n",
        "\n",
        "After training, the model's predictions were made on the test set, and we calculated the Mean Absolute Error (MAE) and the coefficient of determination (R2), which are common metrics to evaluate the performance of regression models. A low MAE and a high R2 value indicated that our model was performing well.\n",
        "\n",
        "**Step 6: Visualization of Results**\n",
        "\n",
        "We plotted the test data and the model's predictions to visually assess how well our model captured the trend in the data. The actual test data was plotted as blue dots, and the model's predictions were shown as a red line. To ensure readability and accuracy, we formatted the x-axis to display years as integers by using MaxNLocator with the integer=True option.\n",
        "\n",
        "Through this process, we were able to build and visualize a model that demonstrates a strong linear relationship between the year and the world's average life expectancy, with the visualization confirming that the linear model is appropriate for the data."
      ],
      "metadata": {
        "id": "D9FQKVgnW0jY"
      }
    },
    {
      "cell_type": "markdown",
      "metadata": {
        "id": "yYD2vKy8BI_W"
      },
      "source": [
        "## Submission\n",
        "Submit a link to your completed Jupyter Notebook file hosted on your private GitHub repository through the submission link in Blackboard."
      ]
    }
  ],
  "metadata": {
    "kernelspec": {
      "display_name": "base",
      "language": "python",
      "name": "python3"
    },
    "language_info": {
      "name": "python",
      "version": "3.9.7"
    },
    "colab": {
      "provenance": []
    }
  },
  "nbformat": 4,
  "nbformat_minor": 0
}